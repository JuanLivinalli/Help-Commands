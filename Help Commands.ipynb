{
 "cells": [
  {
   "cell_type": "markdown",
   "metadata": {},
   "source": [
    "# help commands"
   ]
  },
  {
   "cell_type": "code",
   "execution_count": 103,
   "metadata": {},
   "outputs": [
    {
     "data": {
      "text/plain": [
       "array([16,  7,  5, 15,  6, 11, 18, 10, 14,  4, 20,  2,  1, 17, 19, 12,  8,\n",
       "        0,  9, 13,  3])"
      ]
     },
     "execution_count": 103,
     "metadata": {},
     "output_type": "execute_result"
    }
   ],
   "source": [
    "#view distribution of Y label\n",
    "y['target'].value_counts()",
    "#save to excel\n",
    "df.to_excel(r'Path where the exported excel file will be stored\\File Name.xlsx', index = False)\n",
    "\n",
    "#Where column in [values]\n",
    "df = df[df['prs_intended_management'].isin(['Inpatient - Routine', 'Inpatient - Unplanned'])]\n",
    "\n",
    "#get distint values in column\n",
    "df.prc_professional_carer_description.unique()\n",
    "\n",
    "#replace nan for IsNull\n",
    "df = df.replace(np.nan, 'IsNull', regex=True)\n",
    "dfe = df.copy()\n",
    "\n",
    "#drop columns\n",
    "df = df.drop(columns=['min_start_datetime'])\n",
    "\n",
    "#merge on index  --Index must be the same in both df's\n",
    "pd.merge(y_train_pred_frame, y_train.to_frame(), left_index=True, right_index=True)\n",
    "\n",
    "# label_encoder object knows how to understand word labels.\n",
    "le1 = preprocessing.LabelEncoder()\n",
    "\n",
    "#label encoding\n",
    "df['prs_intended_management']= le4.fit_transform(df['prs_intended_management'].astype(str))\n",
    "\n",
    "#labe encoding dictionary\n",
    "list(le4.classes_)\n",
    "le_name_mapping = dict(zip(le6.classes_, le6.transform(le6.classes_)))\n",
    "le_name_mapping\n",
    "\n",
    "#one hot encoding\n",
    "dfe = pd.concat([dfe,pd.get_dummies(dfe['prs_intended_management'], prefix='intMan')],axis=1).drop(['prs_intended_management'],axis=1)\n",
    "\n",
    "#get data types\n",
    "X_train.dtypes\n",
    "\n",
    "#get list of column names\n",
    "list(dfe.columns.values)\n",
    "\n",
    "#get total columns\n",
    "len(list(dfi2.columns.values))\n",
    "\n",
    "#######################################\n",
    "#get list of column names in one df not in the other \n",
    "main_list = np.setdiff1d(list(df.columns.values),list(df2.columns.values))\n",
    "\n",
    "#add those columns with all 0's\n",
    "for col in dfnon.columns:\n",
    "    X2[col] = 0\n",
    "########################################\n",
    "\n",
    "#convert array to df\n",
    "y2_pred=pd.DataFrame(y2_pred.round(1), index=X2.index, columns = ['predicted'])"
   ]
  },
  {
   "cell_type": "markdown",
   "metadata": {},
   "source": [
    "# Feature Engineering"
   ]
  },
  {
   "cell_type": "code",
   "execution_count": null,
   "metadata": {},
   "outputs": [],
   "source": [
    "#Dates\n",
    "\n",
    "df['min_start_datetime_year'] = df['min_start_datetime'].dt.year\n",
    "df['min_start_datetime_month'] = df['min_start_datetime'].dt.month\n",
    "df['min_start_datetime_week'] = df['min_start_datetime'].dt.week\n",
    "df['min_start_datetime_day'] = df['min_start_datetime'].dt.day\n",
    "df['min_start_datetime_dayofweek'] = df['min_start_datetime'].dt.dayofweek\n",
    "df['min_start_datetime_weekofyear'] = df['min_start_datetime'].dt.week\n",
    "df['min_start_datetime_hour'] = df['min_start_datetime'].dt.hour\n",
    "df['min_start_datetime_minute'] = df['min_start_datetime'].dt.minute\n",
    "\n"
   ]
  },
  {
   "cell_type": "markdown",
   "metadata": {},
   "source": [
    "# Visuals"
   ]
  },
  {
   "cell_type": "code",
   "execution_count": null,
   "metadata": {},
   "outputs": [],
   "source": [
    "#Histogram\n",
    "def histogram(df,column, xlimLeft=0, xlimRight=31, steps=1,bins = 1):\n",
    "    fig, ax = plt.subplots()\n",
    "    sns.histplot(data=df, x=column,bins=range(xlimLeft,xlimRight+1,bins))\n",
    "    ax.set_xticks(range(xlimLeft,xlimRight+1,steps))\n",
    "    ax.set_xticklabels(range(xlimLeft,xlimRight+1,steps))\n",
    "    ax.set_xlim(xlimLeft,xlimRight)\n",
    "    sns.set(rc={'figure.figsize':(20,10)})\n",
    "    plt.show()"
   ]
  },
  {
   "cell_type": "markdown",
   "metadata": {},
   "source": [
    "# Model Preparation"
   ]
  },
  {
   "cell_type": "code",
   "execution_count": null,
   "metadata": {},
   "outputs": [],
   "source": [
    "#eliminating all rows where there is only 1 single occurrence of total_period, since the model requires y to have multiple ocurrences\n",
    "s = df['total_period'].value_counts()==1\n",
    "t = s[s].index.values.tolist()\n",
    "df = df[~df['total_period'].isin(t)]\n",
    "\n",
    "#Setting up X and y to predict Total Period\n",
    "y = df['total_period']\n",
    "X = df.drop(columns = 'total_period')\n",
    "\n",
    "X_train, X_test, y_train, y_test = train_test_split(X, y, test_size = 0.3, stratify=y, random_state = 42)\n",
    "\n",
    "\n",
    "#Merge Prediction with original dataframe\n",
    "y_train_pred = clf.predict(X_train)\n",
    "def merge_Compare_Pred_to_df(originaldf, predicted_array):\n",
    "    y_train_pred_frame=pd.DataFrame(predicted_array, index=originaldf.index, columns = ['predicted'])\n",
    "    train_test = pd.merge(originaldf,y_train_pred_frame , left_index=True, right_index=True)\n",
    "    return train_test\n",
    "\n",
    "#create constant value column and compare against results\n",
    "def constant_value(series, value):\n",
    "    dummyRef = series.to_frame()\n",
    "    dummyRef['constant'] = value\n",
    "    return dummyRef['constant'].to_frame()\n",
    "\n",
    "r2_score(y_train, constant_value(y_train,2).squeeze().to_numpy())"
   ]
  },
  {
   "cell_type": "code",
   "execution_count": null,
   "metadata": {},
   "outputs": [],
   "source": []
  }
 ],
 "metadata": {
  "kernelspec": {
   "display_name": "Python 3",
   "language": "python",
   "name": "python3"
  },
  "language_info": {
   "codemirror_mode": {
    "name": "ipython",
    "version": 3
   },
   "file_extension": ".py",
   "mimetype": "text/x-python",
   "name": "python",
   "nbconvert_exporter": "python",
   "pygments_lexer": "ipython3",
   "version": "3.8.3"
  }
 },
 "nbformat": 4,
 "nbformat_minor": 4
}
